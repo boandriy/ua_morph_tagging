{
 "cells": [
  {
   "cell_type": "markdown",
   "metadata": {},
   "source": [
    "# This notebook contains several classification models used for morphological tagging of ukrainian language"
   ]
  },
  {
   "cell_type": "markdown",
   "metadata": {},
   "source": [
    "Data used for creating morph tags dataset: https://lindat.mff.cuni.cz/repository/xmlui/handle/11234/1-2837"
   ]
  },
  {
   "cell_type": "markdown",
   "metadata": {},
   "source": [
    "For morphological taggin we can use any classification model. It is supervised learning where we learn  an algorithm to predict on of the several morph tags."
   ]
  },
  {
   "cell_type": "code",
   "execution_count": 1,
   "metadata": {},
   "outputs": [],
   "source": [
    "import warnings\n",
    "import numpy as np\n",
    "warnings.filterwarnings(\"ignore\")\n",
    "\n",
    "from sklearn.model_selection import train_test_split, GridSearchCV\n",
    "from sklearn.linear_model import LogisticRegression, Perceptron, PassiveAggressiveClassifier\n",
    "from sklearn.svm import SVC\n",
    "from sklearn.tree import DecisionTreeClassifier\n",
    "from sklearn.neural_network import MLPClassifier\n",
    "from sklearn.metrics import classification_report\n",
    "\n",
    "from data_processing import process_data, create_language_voc, extract_morph_tags, get_dataset"
   ]
  },
  {
   "cell_type": "markdown",
   "metadata": {},
   "source": [
    "### Preparing dataset"
   ]
  },
  {
   "cell_type": "code",
   "execution_count": 2,
   "metadata": {},
   "outputs": [],
   "source": [
    "processed_data = process_data()\n",
    "words = create_language_voc(processed_data)\n",
    "tags = extract_morph_tags(processed_data)\n",
    "x, y = get_dataset(processed_data, words, tags)\n",
    "del processed_data\n",
    "\n",
    "x_train, x_test, y_train , y_test = train_test_split(x, y, test_size=0.33)\n",
    "del x\n",
    "del y"
   ]
  },
  {
   "cell_type": "code",
   "execution_count": 3,
   "metadata": {},
   "outputs": [],
   "source": [
    "x_train = np.array(x_train, dtype=np.int8)"
   ]
  },
  {
   "cell_type": "code",
   "execution_count": 4,
   "metadata": {},
   "outputs": [],
   "source": [
    "x_test = np.array(x_test, dtype=np.int8)"
   ]
  },
  {
   "cell_type": "markdown",
   "metadata": {},
   "source": [
    "### Metircs for models comparison"
   ]
  },
  {
   "cell_type": "code",
   "execution_count": 6,
   "metadata": {},
   "outputs": [],
   "source": [
    "def metrics(model, x, y):\n",
    "    y_pred = model.predict(x)\n",
    "    return classification_report(y, y_pred)"
   ]
  },
  {
   "cell_type": "markdown",
   "metadata": {},
   "source": [
    "### Logistic Regression"
   ]
  },
  {
   "cell_type": "code",
   "execution_count": 6,
   "metadata": {},
   "outputs": [
    {
     "data": {
      "text/plain": [
       "0.8762189259717071"
      ]
     },
     "execution_count": 6,
     "metadata": {},
     "output_type": "execute_result"
    }
   ],
   "source": [
    "LR = LogisticRegression()\n",
    "LR.fit(x_train,y_train)\n",
    "print(metrics(clf, x_test,y_test))"
   ]
  },
  {
   "cell_type": "code",
   "execution_count": 7,
   "metadata": {
    "scrolled": false
   },
   "outputs": [
    {
     "name": "stdout",
     "output_type": "stream",
     "text": [
      "             precision    recall  f1-score   support\n",
      "\n",
      "        ADJ       0.96      0.72      0.82      2794\n",
      "        ADP       1.00      0.99      0.99      2625\n",
      "        ADV       0.93      0.82      0.87      1585\n",
      "        AUX       0.76      1.00      0.86       249\n",
      "      CCONJ       0.93      0.96      0.95      1159\n",
      "        DET       0.97      0.99      0.98      1140\n",
      "       INTJ       0.94      0.46      0.62        35\n",
      "       NOUN       0.80      0.98      0.88      6847\n",
      "        NUM       0.89      0.73      0.80       340\n",
      "       PART       0.93      0.84      0.88       887\n",
      "       PRON       0.99      0.96      0.97      1318\n",
      "      PROPN       0.92      0.69      0.79       770\n",
      "      PUNCT       1.00      1.00      1.00      5432\n",
      "      SCONJ       0.84      0.93      0.89       611\n",
      "        SYM       0.82      0.38      0.51        24\n",
      "       VERB       0.92      0.81      0.86      3186\n",
      "          X       0.90      0.50      0.64       111\n",
      "          _       1.00      1.00      1.00        11\n",
      "\n",
      "avg / total       0.92      0.91      0.91     29124\n",
      "\n"
     ]
    }
   ],
   "source": [
    "LR = LogisticRegression()\n",
    "parameters = {'penalty':(\"l1\",\"l2\"),\"C\":[0.1,1,2,5,10],\"fit_intercept\":('True','False')}\n",
    "clf = GridSearchCV(LR, parameters, cv=5)\n",
    "clf.fit(x_train,y_train)\n",
    "print(metrics(clf, x_test,y_test))"
   ]
  },
  {
   "cell_type": "code",
   "execution_count": 12,
   "metadata": {},
   "outputs": [],
   "source": [
    "# del LR\n",
    "del clf"
   ]
  },
  {
   "cell_type": "markdown",
   "metadata": {},
   "source": [
    "### Perceptron"
   ]
  },
  {
   "cell_type": "code",
   "execution_count": 6,
   "metadata": {
    "scrolled": false
   },
   "outputs": [
    {
     "name": "stdout",
     "output_type": "stream",
     "text": [
      "             precision    recall  f1-score   support\n",
      "\n",
      "        ADJ       0.97      0.71      0.82      2792\n",
      "        ADP       0.99      0.99      0.99      2599\n",
      "        ADV       0.95      0.79      0.87      1576\n",
      "        AUX       0.78      0.94      0.85       272\n",
      "      CCONJ       0.90      0.96      0.93      1178\n",
      "        DET       0.97      0.98      0.98      1112\n",
      "       INTJ       0.43      0.59      0.50        27\n",
      "       NOUN       0.75      0.99      0.85      6774\n",
      "        NUM       0.89      0.73      0.80       342\n",
      "       PART       0.96      0.72      0.82       920\n",
      "       PRON       0.99      0.95      0.97      1317\n",
      "      PROPN       0.94      0.69      0.79       781\n",
      "      PUNCT       0.99      1.00      1.00      5519\n",
      "      SCONJ       0.78      0.96      0.86       546\n",
      "        SYM       0.89      0.77      0.83        22\n",
      "       VERB       1.00      0.69      0.82      3226\n",
      "          X       0.94      0.58      0.72       110\n",
      "          _       0.16      1.00      0.28        11\n",
      "\n",
      "avg / total       0.92      0.90      0.90     29124\n",
      "\n"
     ]
    }
   ],
   "source": [
    "per = Perceptron()\n",
    "per.fit(x_train,y_train)\n",
    "print(metrics(per, x_test,y_test))"
   ]
  },
  {
   "cell_type": "markdown",
   "metadata": {},
   "source": [
    "### PassiveAggressiveClassifier"
   ]
  },
  {
   "cell_type": "code",
   "execution_count": 7,
   "metadata": {
    "scrolled": false
   },
   "outputs": [
    {
     "name": "stdout",
     "output_type": "stream",
     "text": [
      "             precision    recall  f1-score   support\n",
      "\n",
      "        ADJ       0.98      0.70      0.82      2803\n",
      "        ADP       1.00      0.99      0.99      2615\n",
      "        ADV       0.76      0.86      0.81      1619\n",
      "        AUX       0.77      0.93      0.84       263\n",
      "      CCONJ       0.95      0.89      0.92      1160\n",
      "        DET       0.98      0.97      0.97      1126\n",
      "       INTJ       0.54      0.49      0.51        39\n",
      "       NOUN       0.87      0.93      0.90      6758\n",
      "        NUM       0.84      0.79      0.81       332\n",
      "       PART       0.84      0.85      0.85       903\n",
      "       PRON       0.99      0.95      0.97      1302\n",
      "      PROPN       0.90      0.68      0.78       760\n",
      "      PUNCT       1.00      1.00      1.00      5540\n",
      "      SCONJ       0.83      0.90      0.86       567\n",
      "        SYM       0.91      0.38      0.54        26\n",
      "       VERB       0.78      0.88      0.83      3183\n",
      "          X       0.95      0.55      0.69       110\n",
      "          _       0.56      1.00      0.72        18\n",
      "\n",
      "avg / total       0.91      0.91      0.90     29124\n",
      "\n"
     ]
    }
   ],
   "source": [
    "pac = PassiveAggressiveClassifier()\n",
    "pac.fit(x_train,y_train)\n",
    "print(metrics(pac, x_test,y_test))"
   ]
  },
  {
   "cell_type": "markdown",
   "metadata": {},
   "source": [
    "### Support Vector Machine"
   ]
  },
  {
   "cell_type": "code",
   "execution_count": null,
   "metadata": {
    "scrolled": true
   },
   "outputs": [],
   "source": [
    "svm = SVC()\n",
    "svm.fit(x_train,y_train)\n",
    "print(metrics(svm, x_test,y_test))"
   ]
  },
  {
   "cell_type": "markdown",
   "metadata": {},
   "source": [
    "### Decision Tree"
   ]
  },
  {
   "cell_type": "code",
   "execution_count": null,
   "metadata": {},
   "outputs": [],
   "source": [
    "dtc = DecisionTreeClassifier()\n",
    "dtc.fit(x_train,y_train)\n",
    "print(metrics(dtc, x_test,y_test))"
   ]
  },
  {
   "cell_type": "markdown",
   "metadata": {},
   "source": [
    "### Neural Networks"
   ]
  },
  {
   "cell_type": "code",
   "execution_count": null,
   "metadata": {},
   "outputs": [],
   "source": [
    "mlpc = MLPClassifier()\n",
    "mlpc.fit(x_train,y_train)\n",
    "print(metrics(mlpc, x_test,y_test))"
   ]
  },
  {
   "cell_type": "code",
   "execution_count": null,
   "metadata": {},
   "outputs": [],
   "source": [
    ""
   ]
  }
 ],
 "metadata": {
  "kernelspec": {
   "display_name": "Python 3",
   "language": "python",
   "name": "python3"
  },
  "language_info": {
   "codemirror_mode": {
    "name": "ipython",
    "version": 3.0
   },
   "file_extension": ".py",
   "mimetype": "text/x-python",
   "name": "python",
   "nbconvert_exporter": "python",
   "pygments_lexer": "ipython3",
   "version": "3.6.3"
  }
 },
 "nbformat": 4,
 "nbformat_minor": 0
}